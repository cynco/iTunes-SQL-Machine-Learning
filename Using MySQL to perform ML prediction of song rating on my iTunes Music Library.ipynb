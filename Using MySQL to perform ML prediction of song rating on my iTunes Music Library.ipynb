{
 "cells": [
  {
   "cell_type": "markdown",
   "metadata": {},
   "source": [
    "The purpose of this project is to produce a trained model that can predict a song rating for the tracks in my iTunes music library. \n",
    "\n",
    "The main steps are: \n",
    "1. Upload iTunes Music Library into an SQL database.\n",
    "  * This process is outlined in the \"iTunesSQL\" document.\n",
    "2. Use a set of already rated tracks to train and test 6 different models\n",
    "3. Use the best model on my full iTunes library to rate my unrated songs.\n",
    "\n",
    "I wanted to explore how well the models would predict rating based purely on a ratio of (Play_Count÷Skip_Count), so I generated a test dataset with ratings based on this ration plus some noise.\n",
    "\n",
    "To generate the test dataset:\n",
    "1. I uploaded a sample of about 300 songs.\n",
    "2. I filled in missing Play_Count and Skip_Count with random integers.\n",
    "3. To unrated songs, I assigned a Rating value based on 3 different ranges of the ratio Play_Count/Skip_Count.\n",
    "\n",
    "Assignment of ratings based mainly on ratio of Play_Count / Skip_Count:\n",
    "  To introduce some variability, I assigned the Ratings\n",
    "   1. For Ratio <=0.5, Rating= [random sequence of 0 and 40]\n",
    "   2. For 0.5 < Ratio < 2.0, Rating= [random sequence of 40 and 80]\n",
    "   3. For Ratio >=2.0 , Rating= [random sequence of 80 and 120]\n",
    "    \n",
    "To train the models: \n",
    "1. I randomly split the test dataset into 80% training set and 20% validation set.\n",
    "2. I provided the models with Play_Count, Ratio, Total_Time (song duration), and Rating.\n",
    "3. Set up a 10-fold cross validation test harness.\n",
    "4. Studied the confusion matrix and classification report. \n",
    "\n",
    "The trained model can now be used on my full iTunes Library!"
   ]
  },
  {
   "cell_type": "code",
   "execution_count": 1,
   "metadata": {
    "collapsed": false
   },
   "outputs": [
    {
     "name": "stdout",
     "output_type": "stream",
     "text": [
      "Populating the interactive namespace from numpy and matplotlib\n"
     ]
    }
   ],
   "source": [
    "# modifying the ast_note_interactivity kernel option to make\n",
    "# jupyter pretty-print any variable or statement on it’s own line, so you can see the value of multiple statements at once.\n",
    "from IPython.core.interactiveshell import InteractiveShell\n",
    "InteractiveShell.ast_node_interactivity = \"all\"\n",
    "\n",
    "# So that plots are displayed inline, \"plt.show()\" not needed.\n",
    "%pylab inline"
   ]
  },
  {
   "cell_type": "code",
   "execution_count": 2,
   "metadata": {
    "collapsed": false
   },
   "outputs": [
    {
     "name": "stdout",
     "output_type": "stream",
     "text": [
      "Python: 3.5.2 |Anaconda custom (x86_64)| (default, Jul  2 2016, 17:52:12) \n",
      "[GCC 4.2.1 Compatible Apple LLVM 4.2 (clang-425.0.28)]\n",
      "scipy: 0.17.1\n",
      "numpy: 1.11.1\n",
      "matplotlib: 1.5.1\n",
      "pandas: 0.19.0\n",
      "sklearn: 0.18.1\n"
     ]
    }
   ],
   "source": [
    "# Importing needed libraries\n",
    "# Check the versions of python and libraries\n",
    "import sys\n",
    "print('Python: {}'.format(sys.version))\n",
    "# scipy\n",
    "import scipy as sp\n",
    "print('scipy: {}'.format(sp.__version__))\n",
    "# numpy\n",
    "import numpy as np\n",
    "print('numpy: {}'.format(np.__version__))\n",
    "# matplotlib\n",
    "import matplotlib as mpl\n",
    "print('matplotlib: {}'.format(mpl.__version__))\n",
    "# pandas\n",
    "import pandas as pd\n",
    "print('pandas: {}'.format(pd.__version__))\n",
    "# scikit-learn\n",
    "import sklearn as sk\n",
    "print('sklearn: {}'.format(sk.__version__))\n",
    "\n",
    "import random\n",
    "from pandas.tools.plotting import scatter_matrix\n",
    "import matplotlib.pyplot as plt\n",
    "from sklearn import model_selection\n",
    "from sklearn.metrics import classification_report\n",
    "from sklearn.metrics import confusion_matrix\n",
    "from sklearn.metrics import accuracy_score\n",
    "from sklearn.linear_model import LogisticRegression\n",
    "from sklearn.tree import DecisionTreeClassifier\n",
    "from sklearn.neighbors import KNeighborsClassifier\n",
    "from sklearn.discriminant_analysis import LinearDiscriminantAnalysis\n",
    "from sklearn.naive_bayes import GaussianNB\n",
    "from sklearn.svm import SVC"
   ]
  },
  {
   "cell_type": "code",
   "execution_count": 3,
   "metadata": {
    "collapsed": false
   },
   "outputs": [
    {
     "data": {
      "text/plain": [
       "337"
      ]
     },
     "execution_count": 3,
     "metadata": {},
     "output_type": "execute_result"
    },
    {
     "name": "stdout",
     "output_type": "stream",
     "text": [
      "(('Name', 253, None, 1024, 1024, 0, True), ('Artist', 253, None, 1024, 1024, 0, True))\n",
      "<pymysql.cursors.Cursor object at 0x10a4c1128>\n",
      "loaded dataframe from mysql records, df0.shape (337, 6)\n"
     ]
    }
   ],
   "source": [
    "#!/usr/bin/env python\n",
    "from __future__ import print_function\n",
    "\n",
    "import pymysql\n",
    "\n",
    "conn = pymysql.connect(host='localhost',\n",
    "                       port=3306,\n",
    "                       user='root',\n",
    "                       passwd='purple',\n",
    "                       db='itdb')\n",
    "                       \n",
    "cur = conn.cursor()\n",
    "\n",
    "cur.execute(\"SELECT Name, Artist FROM tracks\")\n",
    "\n",
    "# Inspect loaded cursor object\n",
    "print(cur.description)\n",
    "print(cur)\n",
    "# for row in cur:\n",
    "#     print(row)\n",
    "\n",
    "# Read selections from table into a pandas dataframe.\n",
    "df0 = pd.read_sql(\"SELECT Name, Artist, Total_Time, Skip_Count, \\\n",
    "                  Play_Count, Rating FROM tracks;\", con=conn)\n",
    "print(\"loaded dataframe from mysql records, df0.shape\", df0.shape)\n",
    "\n",
    "cur.close()\n",
    "conn.close()"
   ]
  },
  {
   "cell_type": "code",
   "execution_count": 4,
   "metadata": {
    "collapsed": false,
    "scrolled": true
   },
   "outputs": [
    {
     "name": "stdout",
     "output_type": "stream",
     "text": [
      "describe\n",
      "           Total_Time  Skip_Count      Rating\n",
      "count     337.000000       337.0  337.000000\n",
      "mean   268934.605341         0.0   25.875371\n",
      "std     93574.224929         0.0   35.387597\n",
      "min     36780.000000         0.0    0.000000\n",
      "25%    220577.000000         0.0    0.000000\n",
      "50%    259422.000000         0.0    0.000000\n",
      "75%    317622.000000         0.0   80.000000\n",
      "max    679314.000000         0.0   80.000000\n"
     ]
    }
   ],
   "source": [
    "# Keep df0 untouched, work with a copy named df1\n",
    "\n",
    "df1=df0.copy()\n",
    "#df1.iloc[::25,:]\n",
    "#df1\n",
    "# descriptions\n",
    "print('describe'+'\\n', df1.describe())\n",
    "\n",
    "# describe\n",
    "#            Total_Time  Skip_Count      Rating\n",
    "# count     337.000000       337.0  337.000000\n",
    "# mean   268934.605341         0.0   25.875371"
   ]
  },
  {
   "cell_type": "code",
   "execution_count": 5,
   "metadata": {
    "collapsed": false
   },
   "outputs": [
    {
     "name": "stdout",
     "output_type": "stream",
     "text": [
      "Rating - Count\n",
      " Rating\n",
      "0     212\n",
      "40     32\n",
      "80     93\n",
      "dtype: int64\n"
     ]
    }
   ],
   "source": [
    "# Raw data\n",
    "# Training set\n",
    "# How many records are there for each Rating level?\n",
    "# class distribution\n",
    "print('Rating - Count'+'\\n',df1.groupby('Rating').size())"
   ]
  },
  {
   "cell_type": "code",
   "execution_count": 6,
   "metadata": {
    "collapsed": false
   },
   "outputs": [
    {
     "data": {
      "text/plain": [
       "array(['Classical', '', 'Gipsy Kings', 'Heroes del Silencio',\n",
       "       'Laura Pausini'], dtype=object)"
      ]
     },
     "execution_count": 6,
     "metadata": {},
     "output_type": "execute_result"
    }
   ],
   "source": [
    "# Filling in Artist. This is not relevant to the model training by Ratio,\n",
    "# but it will be used for another project.\n",
    "\n",
    "#Classical\n",
    "df1.loc[df1['Artist'].str.contains('Classic|classic'),'Artist']='Classical'\n",
    "df1.loc[df1['Name'].str.contains('Concierto'),'Artist']='Classical'\n",
    "#df1[df1['Artist']==\"\"] and df1['Name'].str.contains('Classic')]\n",
    "df1.loc[(df1['Name'].str.contains('Classic|classic')) & \n",
    "        (df1['Artist']==\"\"),\"Artist\"]='Classical'\n",
    "#df1.loc[3:10]\n",
    "\n",
    "# Laura Pausini\n",
    "df1.loc[df1['Artist'].str.contains('Laura|laura|Pausini|pausini'),\n",
    "        'Artist']='Laura Pausini'\n",
    "df1.loc[df1['Name'].str.contains('Laura|laura|Pausini|pausini'),\n",
    "        'Artist']='Laura Pausini'\n",
    "\n",
    "#Heroes del Silencio\n",
    "df1.loc[df1['Artist'].str.contains('Heroes|heroes|Silencio|silencio'),\n",
    "        'Artist']='Heroes del Silencio'\n",
    "df1.loc[df1['Name'].str.contains('Heroes|heroes|Silencio|silencio'),\n",
    "        'Artist']='Heroes del Silencio'\n",
    "\n",
    "df1['Artist'].unique()\n",
    "#df1\n",
    "#df1.loc[df1['Artist'].str.contains('Heroes')][1:10]\n",
    "#df1.loc[df1['Artist'].str.contains('Gipsy')][1:10]"
   ]
  },
  {
   "cell_type": "code",
   "execution_count": 7,
   "metadata": {
    "collapsed": false
   },
   "outputs": [
    {
     "name": "stdout",
     "output_type": "stream",
     "text": [
      "Description - Play_Count\n",
      " count    337.000000\n",
      "mean      65.741840\n",
      "std       39.740098\n",
      "min        1.000000\n",
      "25%       29.000000\n",
      "50%       64.000000\n",
      "75%      105.000000\n",
      "max      130.000000\n",
      "Name: Play_Count, dtype: float64\n"
     ]
    }
   ],
   "source": [
    "# Fill in Play_Count\n",
    "# random.randint(a,b) produces integers [a,b) Note, b not included. Documentation is wrong.\n",
    "random.seed(124)\n",
    "df1['Play_Count']=[random.randint(1,130) for x in range(0,337)]\n",
    "#print('Index - Play Count'+'\\n',df1['Play_Count'].head(5))\n",
    "print('Description - Play_Count'+'\\n', df1['Play_Count'].describe())\n",
    "# Description - Play_Count\n",
    "#  count    337.000000\n",
    "# mean      65.741840\n",
    "# std       39.740098"
   ]
  },
  {
   "cell_type": "code",
   "execution_count": 10,
   "metadata": {
    "collapsed": false
   },
   "outputs": [
    {
     "name": "stdout",
     "output_type": "stream",
     "text": [
      "Description - Play_Count\n",
      " count    337.000000\n",
      "mean      65.741840\n",
      "std       39.740098\n",
      "min        1.000000\n",
      "25%       29.000000\n",
      "50%       64.000000\n",
      "75%      105.000000\n",
      "max      130.000000\n",
      "Name: Play_Count, dtype: float64\n"
     ]
    }
   ],
   "source": [
    "#Keep a copy\n",
    "df1_0 = df1.copy()\n",
    "# Restore df1 from copy\n",
    "#df1=df1_0.copy()\n",
    "print('Description - Play_Count'+'\\n', df1['Play_Count'].describe())\n",
    "# Description\n",
    "#  count    337.000000\n",
    "# mean      64.249258\n",
    "# std       36.454843"
   ]
  },
  {
   "cell_type": "code",
   "execution_count": 11,
   "metadata": {
    "collapsed": true
   },
   "outputs": [],
   "source": [
    "# Fill in Skip_Count\n",
    "\n",
    "len1=len( df1.loc[ ( df1['Artist']==\"Classical\")  ,'Skip_Count'] )\n",
    "df1.loc[ ( df1['Artist']==\"Classical\")  ,'Skip_Count'] = \\\n",
    "[random.randint(50,120) for x in range(0,len1)]\n",
    "\n",
    "len1=len( df1.loc[ ( df1['Artist']==\"Laura Pausini\")  ,'Skip_Count'] )\n",
    "df1.loc[ ( df1['Artist']==\"Laura Pausini\")  ,'Skip_Count'] = \\\n",
    "[random.randint(10,80) for x in range(0,len1)]\n",
    "\n",
    "len1=len( df1.loc[ ( df1['Artist']==\"Heroes del Silencio\")  ,'Skip_Count'] )\n",
    "df1.loc[ ( df1['Artist']==\"Heroes del Silencio\")  ,'Skip_Count'] = \\\n",
    "[random.randint(10,30) for x in range(0,len1)]\n",
    "\n",
    "len1=len( df1.loc[ ( df1['Artist']==\"Gipsy Kings\")  ,'Skip_Count'] )\n",
    "df1.loc[ ( df1['Artist']==\"Gipsy Kings\")  ,'Skip_Count'] = \\\n",
    "[random.randint(30,80) for x in range(0,len1)]\n",
    "\n",
    "len1=len( df1.loc[ ( df1['Artist']==\"\")  ,'Skip_Count'] )\n",
    "df1.loc[ ( df1['Artist']==\"\")  ,'Skip_Count'] = \\\n",
    "[random.randint(40,80) for x in range(0,len1)]"
   ]
  },
  {
   "cell_type": "code",
   "execution_count": 12,
   "metadata": {
    "collapsed": false
   },
   "outputs": [
    {
     "name": "stdout",
     "output_type": "stream",
     "text": [
      "Description - Ratio\n",
      " count    337.000000\n",
      "mean       0.216706\n",
      "std        1.144073\n",
      "min       -3.891820\n",
      "25%       -0.393043\n",
      "50%        0.333144\n",
      "75%        1.015921\n",
      "max        2.509599\n",
      "Name: Ratio, dtype: float64\n",
      "groupby('Rating').size()\n",
      " Rating\n",
      "0     212\n",
      "40     32\n",
      "80     93\n",
      "dtype: int64\n"
     ]
    }
   ],
   "source": [
    "list1=  np.log( df1['Play_Count']/df1['Skip_Count'] )\n",
    "df1=df1.assign(Ratio=list1)\n",
    "print('Description - Ratio'+'\\n', df1['Ratio'].describe())\n",
    "print('groupby(\\'Rating\\').size()'+'\\n',df1.groupby('Rating').size())"
   ]
  },
  {
   "cell_type": "code",
   "execution_count": 13,
   "metadata": {
    "collapsed": false
   },
   "outputs": [
    {
     "name": "stdout",
     "output_type": "stream",
     "text": [
      "Rating - Count\n",
      " Rating\n",
      "0     234\n",
      "40     25\n",
      "80     78\n",
      "dtype: int64\n"
     ]
    }
   ],
   "source": [
    "# Fill in Ratings, ratings are integer type\n",
    "#df1['Rating'].unique() \n",
    "#df1_1 = df1.loc[((df1['Rating']==0) & (df1['Play_Count']/df1['Skip_Count'])<= 0.5 ),'Rating']\n",
    "df1_1 = df1.loc[((df1['Play_Count']/df1['Skip_Count'])<= 0.5 ),'Rating']\n",
    "len1=len( df1_1 )\n",
    "randnums1=[randint(0,1)*40 for x in range(0,len1)]\n",
    "df1.loc[ ( (df1['Play_Count']/df1['Skip_Count'])<= 0.5 ),'Rating'] = randnums1\n",
    "print('Rating - Count'+'\\n',df1.groupby('Rating').size())"
   ]
  },
  {
   "cell_type": "code",
   "execution_count": 14,
   "metadata": {
    "collapsed": false
   },
   "outputs": [
    {
     "name": "stdout",
     "output_type": "stream",
     "text": [
      "Rating - Count\n",
      " Rating\n",
      "0      193\n",
      "40      18\n",
      "80      49\n",
      "120     77\n",
      "dtype: int64\n"
     ]
    }
   ],
   "source": [
    "df1_3 = df1.loc[ ((df1['Play_Count']/df1['Skip_Count'])>= 3 ),'Rating']\n",
    "len3=len( df1_3 )\n",
    "randnums3=[random.randint(3,4)*40 for x in range(0,len3)]\n",
    "df1.loc[ ( (df1['Play_Count']/df1['Skip_Count'])>= 3 ),'Rating']=120\n",
    "print('Rating - Count'+'\\n',df1.groupby('Rating').size())"
   ]
  },
  {
   "cell_type": "code",
   "execution_count": 15,
   "metadata": {
    "collapsed": false
   },
   "outputs": [
    {
     "name": "stdout",
     "output_type": "stream",
     "text": [
      "Rating - Count\n",
      " Rating\n",
      "0       95\n",
      "40     157\n",
      "80       8\n",
      "120     77\n",
      "dtype: int64\n"
     ]
    }
   ],
   "source": [
    "#To select subset based on these two criteria, enclose in parentheses each ratio, each condition, and the pair of conditions\n",
    "df1_2 = df1.loc[(((df1['Play_Count']/df1['Skip_Count'])>= 0.5) & ((df1['Play_Count']/df1['Skip_Count'])<= 2 )),'Rating']\n",
    "len2=len( df1_2 )\n",
    "randnums2=[randint(1,2)*40 for x in range(0,len2)]\n",
    "df1.loc[  (((df1['Play_Count']/df1['Skip_Count'])>= 0.5 ) & ((df1['Play_Count']/df1['Skip_Count'])<= 2 )),'Rating']=randnums2\n",
    "print('Rating - Count'+'\\n',df1.groupby('Rating').size())"
   ]
  },
  {
   "cell_type": "code",
   "execution_count": 16,
   "metadata": {
    "collapsed": true
   },
   "outputs": [],
   "source": [
    "# Keep a copy\n",
    "df_complete=df1.copy()\n",
    "# Restore from copy\n",
    "#df1=df_complete.copy()\n",
    "# Keep only neccesary fields\n",
    "df1=df1[['Total_Time','Play_Count','Ratio','Rating']]"
   ]
  },
  {
   "cell_type": "code",
   "execution_count": 17,
   "metadata": {
    "collapsed": false
   },
   "outputs": [
    {
     "data": {
      "text/plain": [
       "Total_Time       Axes(0.125,0.547727;0.352273x0.352273)\n",
       "Play_Count    Axes(0.547727,0.547727;0.352273x0.352273)\n",
       "Ratio               Axes(0.125,0.125;0.352273x0.352273)\n",
       "Rating           Axes(0.547727,0.125;0.352273x0.352273)\n",
       "dtype: object"
      ]
     },
     "execution_count": 17,
     "metadata": {},
     "output_type": "execute_result"
    },
    {
     "data": {
      "image/png": "[encoded data removed]",
      "text/plain": [
       "<matplotlib.figure.Figure at 0x1157e1fd0>"
      ]
     },
     "metadata": {},
     "output_type": "display_data"
    }
   ],
   "source": [
    "# box and whisker plots\n",
    "df1.plot(kind='box', subplots=True, layout=(2,2), sharex=False, sharey=False)"
   ]
  },
  {
   "cell_type": "code",
   "execution_count": 18,
   "metadata": {
    "collapsed": false
   },
   "outputs": [
    {
     "data": {
      "image/png": "[encoded data removed]",
      "text/plain": [
       "<matplotlib.figure.Figure at 0x11596cc18>"
      ]
     },
     "metadata": {},
     "output_type": "display_data"
    }
   ],
   "source": [
    "# Split into train and validation set\n",
    "\n",
    "df1.hist();"
   ]
  },
  {
   "cell_type": "code",
   "execution_count": 19,
   "metadata": {
    "collapsed": false
   },
   "outputs": [
    {
     "data": {
      "image/png": "[encoded data removed]",
      "text/plain": [
       "<matplotlib.figure.Figure at 0x116432be0>"
      ]
     },
     "metadata": {},
     "output_type": "display_data"
    }
   ],
   "source": [
    "# scatter plot matrix\n",
    "scatter_matrix(df1);"
   ]
  },
  {
   "cell_type": "markdown",
   "metadata": {},
   "source": [
    "### Observations: \n",
    "    1. There aren't any outliers to worry about\n",
    "    2. There is almost no correlation between Rating and Play_Count, as expected and desired.\n",
    "    3. There is a slight negative correlation between Rating and Total_Time, \n",
    "    as expected, since I tend to get bored with very long songs.\n",
    "    4. The correlation Play_Count and the Log of the Ratio is nonlinear, as expected.\n",
    "    5. The correlation between Rating and Log of Ratio is weak but discernible, as expected and desired."
   ]
  },
  {
   "cell_type": "markdown",
   "metadata": {},
   "source": [
    "### Evaluate Some Algorithms  \n",
    "\n",
    "Now it is time to create some models of the data and estimate their accuracy on unseen data.  \n",
    "Here is what we are going to cover in this step:  \n",
    "-Separate out a validation dataset.  \n",
    "-Set-up the test harness to use 10-fold cross validation.  \n",
    "-Build 5 different models to predict species from flower measurements  \n",
    "-Select the best model.  "
   ]
  },
  {
   "cell_type": "markdown",
   "metadata": {},
   "source": [
    "### Create a Validation Dataset  \n",
    "We need to know that the model we created is any good. We want a concrete estimate of the accuracy of the best model on unseen data by evaluating it on actual unseen data.\n",
    "  \n",
    "We are going to hold back some data that the algorithms will not get to see and we will use this data to get a second and independent idea of how accurate the best model might actually be.\n",
    "\n",
    "We split the loaded dataset into two, 80% of which we will use to train our models and 20% that we will hold back as a validation dataset."
   ]
  },
  {
   "cell_type": "code",
   "execution_count": 20,
   "metadata": {
    "collapsed": false
   },
   "outputs": [
    {
     "data": {
      "text/plain": [
       "array([[  1.33041000e+05,   7.20000000e+01,   7.19734996e-02,\n",
       "          4.00000000e+01],\n",
       "       [  1.79957000e+05,   2.00000000e+00,  -3.70130197e+00,\n",
       "          0.00000000e+00],\n",
       "       [  2.23346000e+05,   4.60000000e+01,  -3.90866309e-01,\n",
       "          4.00000000e+01],\n",
       "       ..., \n",
       "       [  2.94817000e+05,   6.30000000e+01,   1.72842813e-01,\n",
       "          4.00000000e+01],\n",
       "       [  2.55529000e+05,   6.80000000e+01,   1.00063188e+00,\n",
       "          0.00000000e+00],\n",
       "       [  2.21440000e+05,   1.18000000e+02,   6.93147181e-01,\n",
       "          4.00000000e+01]])"
      ]
     },
     "execution_count": 20,
     "metadata": {},
     "output_type": "execute_result"
    }
   ],
   "source": [
    "# Split-out train and validation (or test) data subsets\n",
    "array = df1.values\n",
    "array"
   ]
  },
  {
   "cell_type": "code",
   "execution_count": 21,
   "metadata": {
    "collapsed": false
   },
   "outputs": [],
   "source": [
    "X = array[:,0:3]\n",
    "Y = array[:,3] # col 3 is Rating\n",
    "validation_size = 0.20\n",
    "seed = 7\n",
    "X_train, X_validation, Y_train, Y_validation = \\\n",
    "model_selection.train_test_split(X, Y, \n",
    "                                 test_size=validation_size, \n",
    "                                 random_state=seed)"
   ]
  },
  {
   "cell_type": "markdown",
   "metadata": {},
   "source": [
    "### Test Harness  \n",
    "We will use 10-fold cross validation to estimate accuracy.  \n",
    "\n",
    "This will split our dataset into 10 parts (n_splits=10, in model.selection), train on 9 and test on 1 and repeat for \n",
    "all combinations of train-test splits."
   ]
  },
  {
   "cell_type": "code",
   "execution_count": 22,
   "metadata": {
    "collapsed": true
   },
   "outputs": [],
   "source": [
    "# Test options and evaluation metric\n",
    "seed = 7\n",
    "scoring = 'accuracy'"
   ]
  },
  {
   "cell_type": "markdown",
   "metadata": {},
   "source": [
    "We are using the metric of ‘accuracy‘ to evaluate models. This is a ratio of the number of correctly predicted instances in divided by the total number of instances in the dataset multiplied by 100 to give a percentage (e.g. 95% accurate). We will be using the scoring variable when we run build and evaluate each model next.  \n",
    "\n",
    "### Build Models  \n",
    "We don’t know which algorithms would be good on this problem or what configurations to use. We get an idea from the plots that some of the classes are partially linearly separable in some dimensions, so we are expecting generally good results.  \n",
    "\n",
    "Let’s evaluate 6 different algorithms:  \n",
    "* Logistic Regression (LR)  \n",
    "* Linear Discriminant Analysis (LDA)  \n",
    "* K-Nearest Neighbors (KNN)  \n",
    "* Classification and Regression Trees (CART)  \n",
    "* Gaussian Naive Bayes (NB)   \n",
    "* Support Vector Machines (SVM)  \n",
    "\n",
    "This is a good mixture of simple linear (LR and LDA), nonlinear (KNN, CART, NB and SVM) algorithms. We reset the random number seed before each run to ensure that the evaluation of each algorithm is performed using exactly the same data splits. It ensures the results are directly comparable.  \n",
    "\n",
    "Let’s build and evaluate our five models:"
   ]
  },
  {
   "cell_type": "code",
   "execution_count": 23,
   "metadata": {
    "collapsed": false
   },
   "outputs": [
    {
     "name": "stdout",
     "output_type": "stream",
     "text": [
      "Model - Mean - Std Dev\n",
      "LR: 0.531909 (0.060330)\n",
      "LDA: 0.836467 (0.052767)\n",
      "KNN: 0.390313 (0.104919)\n",
      "CART: 0.951852 (0.040741)\n",
      "NB: 0.568946 (0.063400)\n",
      "SVM: 0.465242 (0.094534)\n"
     ]
    }
   ],
   "source": [
    "# To bypass a warning about the LDA prior probabilities\n",
    "# needing to be renormalized. \n",
    "import warnings    \n",
    "warnings.filterwarnings('ignore', category=UserWarning) \n",
    "\n",
    "# Spot Check Algorithms\n",
    "models = []\n",
    "models.append(('LR', LogisticRegression()))\n",
    "models.append(('LDA', LinearDiscriminantAnalysis()))\n",
    "models.append(('KNN', KNeighborsClassifier()))\n",
    "models.append(('CART', DecisionTreeClassifier()))\n",
    "models.append(('NB', GaussianNB()))\n",
    "models.append(('SVM', SVC()))\n",
    "# evaluate each model in turn\n",
    "results = []\n",
    "names = []\n",
    "print(\"Model - Mean - Std Dev\")\n",
    "for name, model in models:\n",
    "\tkfold = model_selection.KFold(n_splits=10, random_state=seed)\n",
    "\tcv_results = model_selection.cross_val_score(model, X_train, Y_train, cv=kfold, scoring=scoring)\n",
    "\tresults.append(cv_results)\n",
    "\tnames.append(name)\n",
    "\tmsg = \"%s: %f (%f)\" % (name, cv_results.mean(), cv_results.std())     \n",
    "\tprint(msg)"
   ]
  },
  {
   "cell_type": "markdown",
   "metadata": {},
   "source": [
    "http://www.psychstat.missouristate.edu/multibook/mlt03.htm"
   ]
  },
  {
   "cell_type": "markdown",
   "metadata": {},
   "source": [
    "### Select Best Model  \n",
    "We now have 6 models and accuracy estimations for each. We need to compare the models to each other and select the most accurate.  \n",
    "\n",
    "We can see above that it looks like CART has the largest estimated accuracy score.  \n",
    "\n",
    "We can also create a plot of the model evaluation results and compare the spread and the mean accuracy of each model. There is a population of accuracy measures for each algorithm because each algorithm was evaluated 10 times (10 fold cross validation)."
   ]
  },
  {
   "cell_type": "code",
   "execution_count": 24,
   "metadata": {
    "collapsed": false
   },
   "outputs": [
    {
     "data": {
      "image/png": "[encoded data removed]",
      "text/plain": [
       "<matplotlib.figure.Figure at 0x1162c7fd0>"
      ]
     },
     "metadata": {},
     "output_type": "display_data"
    }
   ],
   "source": [
    "# Compare Algorithms\n",
    "fig = plt.figure()\n",
    "fig.suptitle('Algorithm Comparison')\n",
    "ax = fig.add_subplot(111)\n",
    "plt.boxplot(results)\n",
    "\n",
    "ax.set_xticklabels(names); #outputs useless text"
   ]
  },
  {
   "cell_type": "markdown",
   "metadata": {},
   "source": [
    "You can see that the box and whisker plots are squashed at the top of the range, with many samples achieving 100% accuracy.\n",
    "Make Predictions\n",
    "The CART algorithm was the most accurate model that we tested. Now we want to get an idea of the accuracy of the model on our validation set.\n",
    "This will give us an independent final check on the accuracy of the best model. It is valuable to keep a validation set just in case you made a slip during training, such as overfitting to the training set or a data leak. Both will result in an overly optimistic result.\n",
    "We can run the KNN model directly on the validation set and summarize the results as a final accuracy score, a confusion matrix and a classification report."
   ]
  },
  {
   "cell_type": "code",
   "execution_count": 25,
   "metadata": {
    "collapsed": false
   },
   "outputs": [
    {
     "name": "stdout",
     "output_type": "stream",
     "text": [
      "Confusion Matrix\n",
      " [[19  0  0  0]\n",
      " [ 0 35  0  0]\n",
      " [ 2  0  0  0]\n",
      " [ 0  0  0 12]]\n",
      "Classification Report\n",
      "              precision    recall  f1-score   support\n",
      "\n",
      "        0.0       0.90      1.00      0.95        19\n",
      "       40.0       1.00      1.00      1.00        35\n",
      "       80.0       0.00      0.00      0.00         2\n",
      "      120.0       1.00      1.00      1.00        12\n",
      "\n",
      "avg / total       0.94      0.97      0.96        68\n",
      "\n",
      "Accuracy score: 0.970588235294\n"
     ]
    }
   ],
   "source": [
    "# Make predictions on validation dataset\n",
    "# The best model was:  CART\n",
    "best = DecisionTreeClassifier(); #CART\n",
    "best.fit(X_train, Y_train);\n",
    "predictions = best.predict(X_validation);\n",
    "print(\"Confusion Matrix\"+\"\\n\", confusion_matrix(Y_validation, predictions));\n",
    "print(\"Classification Report\"+\"\\n\",classification_report(Y_validation, predictions));\n",
    "print(\"Accuracy score:\", accuracy_score(Y_validation, predictions));"
   ]
  },
  {
   "cell_type": "markdown",
   "metadata": {},
   "source": [
    "We can see that the average F1-accuracy for all classes is 96%. This is a good result (given that the validation dataset was small and very noisy).  "
   ]
  },
  {
   "cell_type": "markdown",
   "metadata": {},
   "source": [
    "### Confusion Matrix:  \n",
    "\n",
    "The confusion matrix provides an indication of the errors made. en.wikipedia.org/wiki/Confusion_matrix  \n",
    "For example: \n",
    "        Rating\n",
    "class 0:   0  4 True positives, 6 False negatives, 2 False positives\n",
    "class 1:  40 \n",
    "class 2:  80 \n",
    "class 3: 120\n",
    "\n",
    "\n",
    "### Classification report\n",
    "\n",
    "The classification report provides a breakdown of each class by precision, recall, f1-score and support\n",
    "\n",
    "Precision - positive predictive value (fraction of positives that were true) TP/(TP+FP)\n",
    "\n",
    "The f1-score is the harmonic mean of precision and recall; it is a measure of the test's accuracy. The scores corresponding to every class will tell you the accuracy of the classifier in classifying the data points in that particular class compared to all other classes. \n",
    "\n",
    "Accuracy - true predictive value (fraction of all samples correctly predicted true positive and true negative.) (TP+TN)/(P+N)\n",
    "\n",
    "The support is the number of samples of the true responses that lie in that class.  (TP + FN)\n",
    "\n",
    "F1-score - http://scikit-learn.org/stable/modules/generated/sklearn.metrics.f1_score.html  \n",
    "\n",
    "Support - http://scikit-learn.org/stable/modules/generated/sklearn.metrics.precision_recall_fscore_support.html  "
   ]
  },
  {
   "cell_type": "markdown",
   "metadata": {},
   "source": [
    "### Interesting results\n",
    "\n",
    "* For this small and noisy dataset, the 6 models gave very different accuracies\n",
    "ranging from 28% (KNN) to 68% (CART).\n",
    "\n",
    "* Providing Play_Count and Skip_Count gave a best accuracy of 32%.\n",
    "Providing the ratio improved the best accuracy to 44%.\n",
    "\n",
    "* Providing the ratio gave a best accuracy of 44%. \n",
    "Providing the log of the ratio improved the test accuracies to around 97%."
   ]
  },
  {
   "cell_type": "code",
   "execution_count": null,
   "metadata": {
    "collapsed": true
   },
   "outputs": [],
   "source": []
  }
 ],
 "metadata": {
  "anaconda-cloud": {},
  "kernelspec": {
   "display_name": "Python [Root]",
   "language": "python",
   "name": "Python [Root]"
  },
  "language_info": {
   "codemirror_mode": {
    "name": "ipython",
    "version": 3
   },
   "file_extension": ".py",
   "mimetype": "text/x-python",
   "name": "python",
   "nbconvert_exporter": "python",
   "pygments_lexer": "ipython3",
   "version": "3.5.2"
  }
 },
 "nbformat": 4,
 "nbformat_minor": 0
}
